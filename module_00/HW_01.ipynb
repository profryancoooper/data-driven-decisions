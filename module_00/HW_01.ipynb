{
 "cells": [
  {
   "cell_type": "code",
   "execution_count": 1,
   "id": "344013d1",
   "metadata": {},
   "outputs": [
    {
     "name": "stderr",
     "output_type": "stream",
     "text": [
      "[nltk_data] Downloading package punkt to /home/ryan/nltk_data...\n",
      "[nltk_data]   Package punkt is already up-to-date!\n"
     ]
    }
   ],
   "source": [
    "import numpy as np\n",
    "import matplotlib.pyplot as plt\n",
    "plt.style.use('fivethirtyeight')\n",
    "import pandas as pd"
   ]
  },
  {
   "cell_type": "markdown",
   "id": "d446d040",
   "metadata": {},
   "source": [
    "# HW_01 - Generative AI writing analysis and Monte Carlo research\n",
    "\n",
    "In this assignment, you will generate 500 words using a generative AI prompt and prompt engineering. Then, edit the document to use [active]() phrasing and add your own ideas to the document. \n",
    "\n",
    "**Scenario:** Your goal is to create a short technical report to convince your manager that you should use [Monte Carlo](https://en.wikipedia.org/wiki/Monte_Carlo_method) models in your engineering work. \n",
    "\n",
    "choose your role:\n",
    "- [X] lead engineer\n",
    "- [ ]  junior engineer\n",
    "- [ ] managing engineer\n",
    "\n",
    "choose your company product:\n",
    "- [X] bicycles\n",
    "- [ ] airplane engines\n",
    "- [ ] toothbrushes\n",
    "- [ ] corkscrews\n",
    "\n",
    "**Goal:** Justify the use of Monte Carlo methods in your role to design your product. This could include, \n",
    "\n",
    "- quantifying uncertainty in design\n",
    "- modeling process times \n",
    "- Mechanical strength of design\n",
    "- Fatigue limits of design\n",
    "- changes in heat and mass transfer of devices\n",
    "- account for variables outside the engineering scope of the design"
   ]
  },
  {
   "cell_type": "markdown",
   "id": "87705f35",
   "metadata": {},
   "source": [
    "## Prompt Input and Output\n",
    "\n",
    "I need you to act as a lead engineer for Specialized Bicycles. You need to convince your manager that we should start using Monte Carlo to design bicycle frames for road bikes. \n",
    "\n",
    "Create a 500 word document with 2 references that shows how useful monte carlo is in designing and manufacturing bicycle frames. \n",
    "\n",
    "\n",
    "**Subject: Proposal for Implementing Monte Carlo Simulation in Bicycle Frame Design**\n",
    "\n",
    "Dear [Manager's Name],\n",
    "\n",
    "I am writing to propose the adoption of Monte Carlo simulation in our design and manufacturing processes for bicycle frames, particularly for road bikes, at Specialized Bicycles. Monte Carlo simulation offers a powerful and versatile approach to optimize designs, mitigate risks, and enhance the overall performance and reliability of our products. In this document, I will outline the advantages of Monte Carlo simulation in bicycle frame design, supported by relevant research and industry examples.\n",
    "\n",
    "**1. Optimization of Design Parameters:**\n",
    "\n",
    "Monte Carlo simulation allows us to explore a wide range of design parameters and their interactions, providing insights into the performance characteristics of different frame configurations. By generating numerous random samples within specified parameter ranges and simulating their behavior under various conditions, we can identify optimal design configurations that meet our performance criteria while minimizing weight, maximizing stiffness, and ensuring durability. This iterative process enables us to achieve superior designs that offer an optimal balance of performance, comfort, and efficiency.\n",
    "\n",
    "**2. Risk Assessment and Mitigation:**\n",
    "\n",
    "Uncertainties in material properties, manufacturing processes, and environmental conditions can introduce risks that may compromise the integrity and reliability of bicycle frames. Monte Carlo simulation enables us to quantify these uncertainties and assess their impact on the performance and safety of our products. By simulating thousands of scenarios with probabilistic inputs, we can identify potential failure modes, assess their likelihood and severity, and implement design changes or manufacturing controls to mitigate risks effectively. This proactive approach to risk management enhances product safety, reliability, and customer satisfaction while reducing warranty claims and liability exposure.\n",
    "\n",
    "**3. Verification and Validation:**\n",
    "\n",
    "Monte Carlo simulation provides a valuable tool for verifying and validating our design concepts and manufacturing processes. By comparing simulation results with empirical data from laboratory tests, field trials, and real-world performance feedback, we can ensure that our models accurately represent the behavior of our products under various operating conditions. This iterative validation process enhances our confidence in the performance and reliability of our designs, enabling us to deliver innovative and high-quality products that exceed customer expectations.\n",
    "\n",
    "**References:**\n",
    "\n",
    "1. Cheng, G., & Alford, L. (2016). Application of Monte Carlo Simulation in Bicycle Frame Design. *Journal of Mechanical Design,* 138(11), 111403. [DOI:10.1115/1.4034526](https://doi.org/10.1115/1.4034526)\n",
    "\n",
    "2. Willumsen, J. (2018). Monte Carlo Simulation: A Practical Guide for Engineers and Scientists. CRC Press. [ISBN: 978-1138613895](https://www.crcpress.com/Monte-Carlo-Simulation-A-Practical-Guide-for-Engineers-and-Scientists/Willumsen/p/book/9781138613895)\n",
    "\n",
    "In conclusion, the adoption of Monte Carlo simulation in our bicycle frame design and manufacturing processes offers significant benefits in terms of optimization, risk assessment, and validation. By leveraging the power of probabilistic analysis, we can enhance the performance, reliability, and safety of our products while reducing development time and costs. I urge you to consider this proposal seriously and allocate resources for the implementation of Monte Carlo simulation at Specialized Bicycles.\n",
    "\n",
    "Thank you for your attention to this matter. I am available to discuss this proposal further and address any questions or concerns you may have.\n",
    "\n",
    "Sincerely,\n",
    "\n",
    "[Your Name]\n",
    "Lead Engineer\n",
    "Specialized Bicycles"
   ]
  },
  {
   "cell_type": "markdown",
   "id": "670e5378",
   "metadata": {},
   "source": [
    "## Revised document\n",
    "\n",
    "**Subject: Proposal for Implementing Monte Carlo Simulation in Bicycle Frame Design**\n",
    "\n",
    "Dear Maggie,\n",
    "\n",
    "I propose we implement Monte Carlo simulations to design and manufacturing road bicycle frames.\n",
    "Monte Carlo simulation optimizes designs, mitigate risks, and increase reliability of our products. \n",
    "There are three main benefits to Monte Carlo simulations in bicycle frame design :\n",
    "\n",
    "**1. Optimization of Design Parameters:**\n",
    "\n",
    "Monte Carlo simulation allows us to explore a wide range of design parameters and their interactions, providing insights into the performance characteristics of different frame configurations. By generating numerous random samples within specified parameter ranges and simulating their behavior under various conditions, we can identify optimal design configurations that meet our performance criteria while minimizing weight, maximizing stiffness, and ensuring durability. This iterative process enables us to achieve superior designs that offer an optimal balance of performance, comfort, and efficiency.\n",
    "\n",
    "\"Most important problems for which the [Monte Carlo] is found extremely useful includes (a) numerical analysis of dynamic response of nonlinear structures to random excitations, (b) time domain analysis of linear structures under random excitations performed for the purpose of obtaining a kind of information, such as first excursion probability and time history of a sample function, that is not obtainable from the standard frequency domain analysis, (c) numerical solution of structural problems involving randomly nonhomogeneous material property such as wave propagation through random medium, and (d) dynamic analysis of extremely complex systems such as those involving structure-fluid interaction. Numerical examples of some of these problems are presented.\" [Shinozuka 1972](https://www.sciencedirect.com/science/article/abs/pii/0045794972900430)\n",
    "\n",
    "\n",
    "**2. Risk Assessment and Mitigation:**\n",
    "\n",
    "Uncertainties in material properties, manufacturing processes, and environmental conditions can introduce risks that may compromise the integrity and reliability of bicycle frames. Monte Carlo simulation enables us to quantify these uncertainties and assess their impact on the performance and safety of our products. By simulating thousands of scenarios with probabilistic inputs, we can identify potential failure modes, assess their likelihood and severity, and implement design changes or manufacturing controls to mitigate risks effectively. This proactive approach to risk management enhances product safety, reliability, and customer satisfaction while reducing warranty claims and liability exposure.\n",
    "\n",
    "**3. Verification and Validation:**\n",
    "\n",
    "Monte Carlo simulation provides a valuable tool for verifying and validating our design concepts and manufacturing processes. By comparing simulation results with empirical data from laboratory tests, field trials, and real-world performance feedback, we can ensure that our models accurately represent the behavior of our products under various operating conditions. This iterative validation process enhances our confidence in the performance and reliability of our designs, enabling us to deliver innovative and high-quality products that exceed customer expectations.\n",
    "\n",
    "**References:**\n",
    "\n",
    "1. Cheng, G., & Alford, L. (2016). Application of Monte Carlo Simulation in Bicycle Frame Design. *Journal of Mechanical Design,* 138(11), 111403. [DOI:10.1115/1.4034526](https://doi.org/10.1115/1.4034526)\n",
    "\n",
    "2. Willumsen, J. (2018). Monte Carlo Simulation: A Practical Guide for Engineers and Scientists. CRC Press. [ISBN: 978-1138613895](https://www.crcpress.com/Monte-Carlo-Simulation-A-Practical-Guide-for-Engineers-and-Scientists/Willumsen/p/book/9781138613895)\n",
    "\n",
    "In conclusion, the adoption of Monte Carlo simulation in our bicycle frame design and manufacturing processes offers significant benefits in terms of optimization, risk assessment, and validation. By leveraging the power of probabilistic analysis, we can enhance the performance, reliability, and safety of our products while reducing development time and costs. I urge you to consider this proposal seriously and allocate resources for the implementation of Monte Carlo simulation at Specialized Bicycles.\n",
    "\n",
    "Thank you for your attention to this matter. I am available to discuss this proposal further and address any questions or concerns you may have.\n",
    "\n",
    "Sincerely,\n",
    "\n",
    "[Your Name]\n",
    "Lead Engineer\n",
    "Specialized Bicycles\n",
    "\n",
    "\"Most important problems for which the method is found extremely useful includes (a) numerical analysis of dynamic response of nonlinear structures to random excitations, (b) time domain analysis of linear structures under random excitations performed for the purpose of obtaining a kind of information, such as first excursion probability and time history of a sample function, that is not obtainable from the standard frequency domain analysis, (c) numerical solution of structural problems involving randomly nonhomogeneous material property such as wave propagation through random medium, and (d) dynamic analysis of extremely complex systems such as those involving structure-fluid interaction. Numerical examples of some of these problems are presented.\" [Shinozuka 1972](https://www.sciencedirect.com/science/article/abs/pii/0045794972900430)"
   ]
  },
  {
   "cell_type": "markdown",
   "id": "62eb2b3d",
   "metadata": {},
   "source": [
    "_run the cell below to get your `tf_idf` functions ready to run_"
   ]
  },
  {
   "cell_type": "code",
   "execution_count": 1,
   "id": "02b042fe-3d1f-45bf-a928-75a638e84468",
   "metadata": {
    "scrolled": true
   },
   "outputs": [
    {
     "name": "stdout",
     "output_type": "stream",
     "text": [
      "Requirement already satisfied: tf-idf-cosimm in /home/ryan/miniconda3/lib/python3.12/site-packages (0.0.1)\n",
      "Requirement already satisfied: numpy in /home/ryan/miniconda3/lib/python3.12/site-packages (from tf-idf-cosimm) (1.26.4)\n",
      "Requirement already satisfied: pandas in /home/ryan/miniconda3/lib/python3.12/site-packages (from tf-idf-cosimm) (2.2.2)\n",
      "Requirement already satisfied: nltk in /home/ryan/miniconda3/lib/python3.12/site-packages (from tf-idf-cosimm) (3.8.1)\n",
      "Requirement already satisfied: scikit-learn in /home/ryan/miniconda3/lib/python3.12/site-packages (from tf-idf-cosimm) (1.5.0)\n",
      "Requirement already satisfied: click in /home/ryan/miniconda3/lib/python3.12/site-packages (from nltk->tf-idf-cosimm) (8.1.7)\n",
      "Requirement already satisfied: joblib in /home/ryan/miniconda3/lib/python3.12/site-packages (from nltk->tf-idf-cosimm) (1.4.2)\n",
      "Requirement already satisfied: regex>=2021.8.3 in /home/ryan/miniconda3/lib/python3.12/site-packages (from nltk->tf-idf-cosimm) (2024.5.15)\n",
      "Requirement already satisfied: tqdm in /home/ryan/miniconda3/lib/python3.12/site-packages (from nltk->tf-idf-cosimm) (4.66.2)\n",
      "Requirement already satisfied: python-dateutil>=2.8.2 in /home/ryan/miniconda3/lib/python3.12/site-packages (from pandas->tf-idf-cosimm) (2.9.0.post0)\n",
      "Requirement already satisfied: pytz>=2020.1 in /home/ryan/miniconda3/lib/python3.12/site-packages (from pandas->tf-idf-cosimm) (2024.1)\n",
      "Requirement already satisfied: tzdata>=2022.7 in /home/ryan/miniconda3/lib/python3.12/site-packages (from pandas->tf-idf-cosimm) (2024.1)\n",
      "Requirement already satisfied: scipy>=1.6.0 in /home/ryan/miniconda3/lib/python3.12/site-packages (from scikit-learn->tf-idf-cosimm) (1.13.1)\n",
      "Requirement already satisfied: threadpoolctl>=3.1.0 in /home/ryan/miniconda3/lib/python3.12/site-packages (from scikit-learn->tf-idf-cosimm) (3.5.0)\n",
      "Requirement already satisfied: six>=1.5 in /home/ryan/miniconda3/lib/python3.12/site-packages (from python-dateutil>=2.8.2->pandas->tf-idf-cosimm) (1.16.0)\n"
     ]
    }
   ],
   "source": [
    "! pip install tf-idf-cosimm==0.0.2"
   ]
  },
  {
   "cell_type": "code",
   "execution_count": 2,
   "id": "e5bddc12-e642-4d85-bbc8-11f6f3bf887c",
   "metadata": {},
   "outputs": [
    {
     "name": "stderr",
     "output_type": "stream",
     "text": [
      "[nltk_data] Downloading package punkt to /home/ryan/nltk_data...\n",
      "[nltk_data]   Package punkt is already up-to-date!\n"
     ]
    }
   ],
   "source": [
    "import tf_idf.core as tf_idf"
   ]
  },
  {
   "cell_type": "code",
   "execution_count": 3,
   "id": "f0265e28-6f4d-450d-88b5-e4988d8e5390",
   "metadata": {},
   "outputs": [
    {
     "data": {
      "text/html": [
       "<div>\n",
       "<style scoped>\n",
       "    .dataframe tbody tr th:only-of-type {\n",
       "        vertical-align: middle;\n",
       "    }\n",
       "\n",
       "    .dataframe tbody tr th {\n",
       "        vertical-align: top;\n",
       "    }\n",
       "\n",
       "    .dataframe thead th {\n",
       "        text-align: right;\n",
       "    }\n",
       "</style>\n",
       "<table border=\"1\" class=\"dataframe\">\n",
       "  <thead>\n",
       "    <tr style=\"text-align: right;\">\n",
       "      <th></th>\n",
       "      <th>DOCUMENT</th>\n",
       "      <th>LOWERCASE</th>\n",
       "      <th>CLEANING</th>\n",
       "      <th>TOKENIZATION</th>\n",
       "      <th>STOP-WORDS</th>\n",
       "      <th>STEMMING</th>\n",
       "    </tr>\n",
       "  </thead>\n",
       "  <tbody>\n",
       "    <tr>\n",
       "      <th>0</th>\n",
       "      <td>text from chatGPT</td>\n",
       "      <td>text from chatgpt</td>\n",
       "      <td>text from chatgpt</td>\n",
       "      <td>[text, from, chatgpt]</td>\n",
       "      <td>[text, chatgpt]</td>\n",
       "      <td>[text, chatgpt]</td>\n",
       "    </tr>\n",
       "  </tbody>\n",
       "</table>\n",
       "</div>"
      ],
      "text/plain": [
       "              DOCUMENT            LOWERCASE           CLEANING  \\\n",
       "0   text from chatGPT    text from chatgpt   text from chatgpt   \n",
       "\n",
       "            TOKENIZATION       STOP-WORDS         STEMMING  \n",
       "0  [text, from, chatgpt]  [text, chatgpt]  [text, chatgpt]  "
      ]
     },
     "execution_count": 3,
     "metadata": {},
     "output_type": "execute_result"
    }
   ],
   "source": [
    "AI = '''text from chatGPT'''\n",
    "compare = tf_idf.preprocess_text(AI)"
   ]
  },
  {
   "cell_type": "code",
   "execution_count": 4,
   "id": "c34026c8-5d48-4d8f-9b2e-88de15bb041e",
   "metadata": {},
   "outputs": [
    {
     "data": {
      "text/html": [
       "<div>\n",
       "<style scoped>\n",
       "    .dataframe tbody tr th:only-of-type {\n",
       "        vertical-align: middle;\n",
       "    }\n",
       "\n",
       "    .dataframe tbody tr th {\n",
       "        vertical-align: top;\n",
       "    }\n",
       "\n",
       "    .dataframe thead th {\n",
       "        text-align: right;\n",
       "    }\n",
       "</style>\n",
       "<table border=\"1\" class=\"dataframe\">\n",
       "  <thead>\n",
       "    <tr style=\"text-align: right;\">\n",
       "      <th></th>\n",
       "      <th>DOCUMENT</th>\n",
       "      <th>LOWERCASE</th>\n",
       "      <th>CLEANING</th>\n",
       "      <th>TOKENIZATION</th>\n",
       "      <th>STOP-WORDS</th>\n",
       "      <th>STEMMING</th>\n",
       "    </tr>\n",
       "  </thead>\n",
       "  <tbody>\n",
       "    <tr>\n",
       "      <th>0</th>\n",
       "      <td>text from chatGPT</td>\n",
       "      <td>text from chatgpt</td>\n",
       "      <td>text from chatgpt</td>\n",
       "      <td>[text, from, chatgpt]</td>\n",
       "      <td>[text, chatgpt]</td>\n",
       "      <td>[text, chatgpt]</td>\n",
       "    </tr>\n",
       "    <tr>\n",
       "      <th>1</th>\n",
       "      <td>my edited text</td>\n",
       "      <td>my edited text</td>\n",
       "      <td>my edited text</td>\n",
       "      <td>[my, edited, text]</td>\n",
       "      <td>[edited, text]</td>\n",
       "      <td>[edit, text]</td>\n",
       "    </tr>\n",
       "  </tbody>\n",
       "</table>\n",
       "</div>"
      ],
      "text/plain": [
       "              DOCUMENT            LOWERCASE           CLEANING  \\\n",
       "0   text from chatGPT    text from chatgpt   text from chatgpt   \n",
       "1      my edited text       my edited text      my edited text   \n",
       "\n",
       "            TOKENIZATION       STOP-WORDS         STEMMING  \n",
       "0  [text, from, chatgpt]  [text, chatgpt]  [text, chatgpt]  \n",
       "1     [my, edited, text]   [edited, text]     [edit, text]  "
      ]
     },
     "execution_count": 4,
     "metadata": {},
     "output_type": "execute_result"
    }
   ],
   "source": [
    "ME = '''my edited text'''\n",
    "compare = pd.concat([compare, tf_idf.preprocess_text(ME)], \n",
    "                    ignore_index=True)\n",
    "compare"
   ]
  },
  {
   "cell_type": "code",
   "execution_count": 5,
   "id": "385e4ea0-c41d-44ae-8db2-e791e7cfe693",
   "metadata": {},
   "outputs": [
    {
     "data": {
      "text/html": [
       "<div>\n",
       "<style scoped>\n",
       "    .dataframe tbody tr th:only-of-type {\n",
       "        vertical-align: middle;\n",
       "    }\n",
       "\n",
       "    .dataframe tbody tr th {\n",
       "        vertical-align: top;\n",
       "    }\n",
       "\n",
       "    .dataframe thead th {\n",
       "        text-align: right;\n",
       "    }\n",
       "</style>\n",
       "<table border=\"1\" class=\"dataframe\">\n",
       "  <thead>\n",
       "    <tr style=\"text-align: right;\">\n",
       "      <th></th>\n",
       "      <th>DOCUMENT</th>\n",
       "      <th>STEMMING</th>\n",
       "      <th>COSIM</th>\n",
       "    </tr>\n",
       "  </thead>\n",
       "  <tbody>\n",
       "    <tr>\n",
       "      <th>0</th>\n",
       "      <td>text from chatGPT</td>\n",
       "      <td>[text, chatgpt]</td>\n",
       "      <td>1.000000</td>\n",
       "    </tr>\n",
       "    <tr>\n",
       "      <th>1</th>\n",
       "      <td>my edited text</td>\n",
       "      <td>[edit, text]</td>\n",
       "      <td>0.336097</td>\n",
       "    </tr>\n",
       "  </tbody>\n",
       "</table>\n",
       "</div>"
      ],
      "text/plain": [
       "              DOCUMENT         STEMMING     COSIM\n",
       "0   text from chatGPT   [text, chatgpt]  1.000000\n",
       "1      my edited text      [edit, text]  0.336097"
      ]
     },
     "execution_count": 5,
     "metadata": {},
     "output_type": "execute_result"
    }
   ],
   "source": [
    "tf_idf.cosineSimilarity(compare)"
   ]
  },
  {
   "cell_type": "markdown",
   "id": "5ffef0d6",
   "metadata": {},
   "source": [
    "## Document analysis\n",
    "\n",
    "- Make a list of all the improvements and changes you made to document\n",
    "- use the `tf_idf.cosineSimilarity` function to compare the AI version to your own\n",
    "\n",
    "Write a report on your intellectual property  in the 'revised document'. \n",
    "- How much can you claim as yours?\n",
    "- How many ideas came from AI?\n",
    "- How many ideas came from you?\n",
    "- Is this a _new_ document?\n",
    "- If this work was made by you and another person-not AI-would you need to credit this person as a coauthor?\n",
    "- What else can you discuss about this comparison and this process?"
   ]
  },
  {
   "cell_type": "code",
   "execution_count": null,
   "id": "980502d2",
   "metadata": {},
   "outputs": [],
   "source": []
  }
 ],
 "metadata": {
  "jupytext": {
   "formats": "md:myst,ipynb"
  },
  "kernelspec": {
   "display_name": "Python 3 (ipykernel)",
   "language": "python",
   "name": "python3"
  },
  "language_info": {
   "codemirror_mode": {
    "name": "ipython",
    "version": 3
   },
   "file_extension": ".py",
   "mimetype": "text/x-python",
   "name": "python",
   "nbconvert_exporter": "python",
   "pygments_lexer": "ipython3",
   "version": "3.9.6"
  }
 },
 "nbformat": 4,
 "nbformat_minor": 5
}
