{
 "cells": [
  {
   "cell_type": "code",
   "execution_count": 1,
   "id": "6840e790",
   "metadata": {},
   "outputs": [],
   "source": [
    "import numpy as np\n",
    "import matplotlib.pyplot as plt\n",
    "plt.style.use('fivethirtyeight')\n",
    "import pandas as pd"
   ]
  },
  {
   "cell_type": "markdown",
   "id": "2148a32a",
   "metadata": {},
   "source": [
    "# HW_00 - Generative AI writing analysis\n",
    "\n",
    "In this assignment, you will generate instructions on brushing your teeth. You can use [ChatGPT](https://chatgpt.com/)\n",
    "\n",
    "Some metrics to add to the generated instructions:\n",
    "\n",
    "- number of strokes per minute\n",
    "- total brushing time\n",
    "- time spent per tooth \n",
    "- number of teeth or total area to brush on teeth\n",
    "- deflection of brush bristles for proper cleaning\n",
    "- what else can you think of?"
   ]
  },
  {
   "cell_type": "markdown",
   "id": "c3825564",
   "metadata": {},
   "source": [
    "## Prompt Input and Output\n",
    "**ME**\n",
    "\n",
    "I need you to act as a father of two boys 5 and 8 years old. You are going to give them five steps to brush teeth. Make sure the total brushing time is 2 minutes\n",
    "\n",
    "**ChatGPT**\n",
    "\n",
    "Absolutely, let's simplify it into five steps to make sure we hit that 2-minute mark:\n",
    "\n",
    "1. Wet your toothbrush and put a pea-sized amount of toothpaste on it.\n",
    "\n",
    "2. Brush the front teeth (top and bottom) in small circles for 30 seconds.\n",
    "\n",
    "3. Brush the back teeth (top and bottom) in small circles for another 30 seconds.\n",
    "\n",
    "4. Brush your tongue and the roof of your mouth for 15 seconds each. \n",
    "\n",
    "5. Finally, rinse your mouth and toothbrush. \n",
    "\n",
    "And there you have it! Five easy steps to keep those smiles bright and healthy. Let's make sure we do this both in the morning and before bed, okay?"
   ]
  },
  {
   "cell_type": "markdown",
   "id": "64f3d3ea",
   "metadata": {},
   "source": [
    "## Revised document\n",
    "\n",
    "1. Wet your toothbrush and put a pea-sized amount of toothpaste on the bristles of the toothbrush. Toothpaste costs \\$5 per container. Make sure to use less than 5 cents per brushing. \n",
    "\n",
    "2. Brush the upper left, upper right, and upper front teeth inner and outer surfaces for 20 seconds each. Make sure the brush is never more than half-way smooshed against teeth. \n",
    "\n",
    "3. Brush the lower left, lower right, and lower front teeth inner and outer surfaces for 20 seconds each. Make sure the brush is never more than half-way smooshed against teeth. \n",
    "\n",
    "4. Brush your tongue and the roof of your mouth for 10 seconds each. \n",
    "\n",
    "5. Rinse your mouth. Rinse the toothbrush with water three times."
   ]
  },
  {
   "cell_type": "markdown",
   "id": "ad473b69",
   "metadata": {},
   "source": [
    "_run the cell below to get your `tf_idf` functions ready to run_"
   ]
  },
  {
   "cell_type": "code",
   "execution_count": 2,
   "id": "07dd45b3",
   "metadata": {},
   "outputs": [
    {
     "name": "stdout",
     "output_type": "stream",
     "text": [
      "Requirement already satisfied: tf-idf-cosimm==0.0.2 in /opt/conda/lib/python3.9/site-packages (0.0.2)\n",
      "Requirement already satisfied: numpy in /opt/conda/lib/python3.9/site-packages (from tf-idf-cosimm==0.0.2) (1.20.3)\n",
      "Requirement already satisfied: scikit-learn in /opt/conda/lib/python3.9/site-packages (from tf-idf-cosimm==0.0.2) (0.24.2)\n",
      "Requirement already satisfied: pandas in /opt/conda/lib/python3.9/site-packages (from tf-idf-cosimm==0.0.2) (1.3.2)\n",
      "Requirement already satisfied: nltk in /opt/conda/lib/python3.9/site-packages (from tf-idf-cosimm==0.0.2) (3.8.1)\n",
      "Requirement already satisfied: joblib in /opt/conda/lib/python3.9/site-packages (from nltk->tf-idf-cosimm==0.0.2) (1.0.1)\n",
      "Requirement already satisfied: regex>=2021.8.3 in /opt/conda/lib/python3.9/site-packages (from nltk->tf-idf-cosimm==0.0.2) (2024.5.15)\n",
      "Requirement already satisfied: tqdm in /opt/conda/lib/python3.9/site-packages (from nltk->tf-idf-cosimm==0.0.2) (4.62.2)\n",
      "Requirement already satisfied: click in /opt/conda/lib/python3.9/site-packages (from nltk->tf-idf-cosimm==0.0.2) (8.0.1)\n",
      "Requirement already satisfied: python-dateutil>=2.7.3 in /opt/conda/lib/python3.9/site-packages (from pandas->tf-idf-cosimm==0.0.2) (2.8.2)\n",
      "Requirement already satisfied: pytz>=2017.3 in /opt/conda/lib/python3.9/site-packages (from pandas->tf-idf-cosimm==0.0.2) (2021.1)\n",
      "Requirement already satisfied: six>=1.5 in /opt/conda/lib/python3.9/site-packages (from python-dateutil>=2.7.3->pandas->tf-idf-cosimm==0.0.2) (1.16.0)\n",
      "Requirement already satisfied: threadpoolctl>=2.0.0 in /opt/conda/lib/python3.9/site-packages (from scikit-learn->tf-idf-cosimm==0.0.2) (2.2.0)\n",
      "Requirement already satisfied: scipy>=0.19.1 in /opt/conda/lib/python3.9/site-packages (from scikit-learn->tf-idf-cosimm==0.0.2) (1.7.1)\n"
     ]
    }
   ],
   "source": [
    "! pip install tf-idf-cosimm==0.0.2"
   ]
  },
  {
   "cell_type": "code",
   "execution_count": 3,
   "id": "a87cd6c7-5db8-43fc-a63b-c3d9fcb4a531",
   "metadata": {},
   "outputs": [
    {
     "name": "stderr",
     "output_type": "stream",
     "text": [
      "[nltk_data] Downloading package punkt to /home/jovyan/nltk_data...\n",
      "[nltk_data]   Package punkt is already up-to-date!\n"
     ]
    }
   ],
   "source": [
    "import tf_idf.core as tf_idf"
   ]
  },
  {
   "cell_type": "code",
   "execution_count": 19,
   "id": "a12beb9f-aee7-4e7a-962a-0c5bf22f32b3",
   "metadata": {},
   "outputs": [],
   "source": [
    "\n",
    "# Define your texts\n",
    "AI_text = '''Brushing your teeth is an essential part of maintaining good oral hygiene. \n",
    "Here are detailed instructions:\n",
    "1. Wet your toothbrush and apply a pea-sized amount of fluoride toothpaste.\n",
    "2. Start with the outer surfaces of your upper teeth. Hold your toothbrush at a 45-degree angle to your gums.\n",
    "3. Brush with short strokes, about 2 strokes per second (120 strokes per minute).\n",
    "4. Spend about 2 minutes brushing all your teeth, ensuring you cover each section evenly.\n",
    "5. For 32 teeth, spend approximately 3.75 seconds per tooth.\n",
    "6. Move to the inner surfaces of your teeth and repeat the brushing technique.\n",
    "7. Brush the chewing surfaces of your teeth with short, back-and-forth strokes.\n",
    "8. For proper cleaning, ensure the brush bristles bend slightly to reach between the teeth.\n",
    "9. Don’t forget to brush your tongue gently to remove bacteria and freshen your breath.\n",
    "10. Rinse your mouth and toothbrush thoroughly after brushing.\n",
    "Other relevant metrics:\n",
    "- Total brushing time: 2 minutes\n",
    "- Number of strokes: Approximately 240\n",
    "- Bristle deflection: Slight bending of bristles'''\n",
    "\n",
    "ME_text = '''Brushing your teeth removes placque, food, and germs. \n",
    "Follow these steps for an effective brushing routine:\n",
    "1. Wet your toothbrush and apply a pea-sized amount of fluoride toothpaste.\n",
    "2. Start with the outer surfaces of your upper teeth. Hold your toothbrush at a 45-degree angle to your gums.\n",
    "3. Brush using short strokes, maintaining a rate of about 2 strokes per second, which equals 120 strokes per minute.\n",
    "4. Spend a total of 2 minutes brushing your teeth. For 32 teeth, this means dedicating approximately 3.75 seconds to each tooth.\n",
    "5. Move to the inner surfaces of your teeth and use the same brushing technique.\n",
    "6. Brush the chewing surfaces of your teeth with short, back-and-forth strokes.\n",
    "7. Ensure the brush bristles bend slightly to clean between teeth effectively.\n",
    "8. Don't forget to brush your tongue gently to remove bacteria and freshen your breath.\n",
    "9. Rinse your mouth and toothbrush thoroughly after brushing.\n",
    "Additional metrics:\n",
    "- Total brushing time: 2 minutes\n",
    "- Number of strokes: Approximately 240\n",
    "- Bristle deflection: Slight bending of bristles'''\n",
    "\n",
    "\n",
    "\n",
    "AI = '''Wet your toothbrush and put a pea-sized amount of toothpaste on it.\n",
    "\n",
    "Brush the front teeth (top and bottom) in small circles for 30 seconds.\n",
    "\n",
    "Brush the back teeth (top and bottom) in small circles for another 30 seconds.\n",
    "\n",
    "Brush your tongue and the roof of your mouth for 15 seconds each.\n",
    "\n",
    "Finally, rinse your mouth and toothbrush.'''\n",
    "compare = tf_idf.preprocess_text(AI_text)"
   ]
  },
  {
   "cell_type": "code",
   "execution_count": 20,
   "id": "bf6f7dc1-3da0-4251-b5a3-a12121939d3b",
   "metadata": {},
   "outputs": [
    {
     "data": {
      "text/html": [
       "<div>\n",
       "<style scoped>\n",
       "    .dataframe tbody tr th:only-of-type {\n",
       "        vertical-align: middle;\n",
       "    }\n",
       "\n",
       "    .dataframe tbody tr th {\n",
       "        vertical-align: top;\n",
       "    }\n",
       "\n",
       "    .dataframe thead th {\n",
       "        text-align: right;\n",
       "    }\n",
       "</style>\n",
       "<table border=\"1\" class=\"dataframe\">\n",
       "  <thead>\n",
       "    <tr style=\"text-align: right;\">\n",
       "      <th></th>\n",
       "      <th>DOCUMENT</th>\n",
       "      <th>LOWERCASE</th>\n",
       "      <th>CLEANING</th>\n",
       "      <th>TOKENIZATION</th>\n",
       "      <th>STOP-WORDS</th>\n",
       "      <th>STEMMING</th>\n",
       "    </tr>\n",
       "  </thead>\n",
       "  <tbody>\n",
       "    <tr>\n",
       "      <th>0</th>\n",
       "      <td>Brushing your teeth is an essential part of maintaining good oral hygiene. \\nHere are detailed instructions:\\n1. Wet your toothbrush and apply a pea-sized amount of fluoride toothpaste.\\n2. Start with the outer surfaces of your upper teeth. Hold your toothbrush at a 45-degree angle to your gums.\\n3. Brush with short strokes, about 2 strokes per second (120 strokes per minute).\\n4. Spend about 2 minutes brushing all your teeth, ensuring you cover each section evenly.\\n5. For 32 teeth, spend approximately 3.75 seconds per tooth.\\n6. Move to the inner surfaces of your teeth and repeat the brushing technique.\\n7. Brush the chewing surfaces of your teeth with short, back-and-forth strokes.\\n8. For proper cleaning, ensure the brush bristles bend slightly to reach between the teeth.\\n9. Don’t forget to brush your tongue gently to remove bacteria and freshen your breath.\\n10. Rinse your mouth and toothbrush thoroughly after brushing.\\nOther relevant metrics:\\n- Total brushing time: 2 minutes\\n- Number of strokes: Approximately 240\\n- Bristle deflection: Slight bending of bristles</td>\n",
       "      <td>brushing your teeth is an essential part of maintaining good oral hygiene. \\nhere are detailed instructions:\\n1. wet your toothbrush and apply a pea-sized amount of fluoride toothpaste.\\n2. start with the outer surfaces of your upper teeth. hold your toothbrush at a 45-degree angle to your gums.\\n3. brush with short strokes, about 2 strokes per second (120 strokes per minute).\\n4. spend about 2 minutes brushing all your teeth, ensuring you cover each section evenly.\\n5. for 32 teeth, spend approximately 3.75 seconds per tooth.\\n6. move to the inner surfaces of your teeth and repeat the brushing technique.\\n7. brush the chewing surfaces of your teeth with short, back-and-forth strokes.\\n8. for proper cleaning, ensure the brush bristles bend slightly to reach between the teeth.\\n9. don’t forget to brush your tongue gently to remove bacteria and freshen your breath.\\n10. rinse your mouth and toothbrush thoroughly after brushing.\\nother relevant metrics:\\n- total brushing time: 2 minutes\\n- number of strokes: approximately 240\\n- bristle deflection: slight bending of bristles</td>\n",
       "      <td>brushing your teeth is an essential part of maintaining good oral hygiene \\nhere are detailed instructions\\n1 wet your toothbrush and apply a peasized amount of fluoride toothpaste\\n2 start with the outer surfaces of your upper teeth hold your toothbrush at a 45degree angle to your gums\\n3 brush with short strokes about 2 strokes per second 120 strokes per minute\\n4 spend about 2 minutes brushing all your teeth ensuring you cover each section evenly\\n5 for 32 teeth spend approximately 375 seconds per tooth\\n6 move to the inner surfaces of your teeth and repeat the brushing technique\\n7 brush the chewing surfaces of your teeth with short backandforth strokes\\n8 for proper cleaning ensure the brush bristles bend slightly to reach between the teeth\\n9 dont forget to brush your tongue gently to remove bacteria and freshen your breath\\n10 rinse your mouth and toothbrush thoroughly after brushing\\nother relevant metrics\\n total brushing time 2 minutes\\n number of strokes approximately 240\\n bristle deflection slight bending of bristles</td>\n",
       "      <td>[brushing, your, teeth, is, an, essential, part, of, maintaining, good, oral, hygiene, here, are, detailed, instructions, 1, wet, your, toothbrush, and, apply, a, peasized, amount, of, fluoride, toothpaste, 2, start, with, the, outer, surfaces, of, your, upper, teeth, hold, your, toothbrush, at, a, 45degree, angle, to, your, gums, 3, brush, with, short, strokes, about, 2, strokes, per, second, 120, strokes, per, minute, 4, spend, about, 2, minutes, brushing, all, your, teeth, ensuring, you, cover, each, section, evenly, 5, for, 32, teeth, spend, approximately, 375, seconds, per, tooth, 6, move, to, the, inner, surfaces, of, your, teeth, and, repeat, the, brushing, ...]</td>\n",
       "      <td>[brushing, teeth, essential, part, maintaining, oral, hygiene, detailed, instructions, 1, wet, toothbrush, apply, peasized, amount, fluoride, toothpaste, 2, start, outer, surfaces, upper, teeth, hold, toothbrush, 45degree, angle, gums, 3, brush, short, strokes, 2, strokes, 120, strokes, minute, 4, spend, 2, minutes, brushing, teeth, ensuring, cover, section, evenly, 5, 32, teeth, spend, approximately, 375, seconds, tooth, 6, move, surfaces, teeth, repeat, brushing, technique, 7, brush, chewing, surfaces, teeth, short, backandforth, strokes, 8, proper, cleaning, ensure, brush, bristles, bend, slightly, reach, teeth, 9, forget, brush, tongue, gently, remove, bacteria, freshen, breath, 10, rinse, mouth, toothbrush, brushing, relevant, metrics, total, brushing, time, 2, ...]</td>\n",
       "      <td>[brush, teeth, essenti, part, maintain, oral, hygien, detail, instruct, 1, wet, toothbrush, appli, peasiz, amount, fluorid, toothpast, 2, start, outer, surfac, upper, teeth, hold, toothbrush, 45degre, angl, gum, 3, brush, short, stroke, 2, stroke, 120, stroke, minut, 4, spend, 2, minut, brush, teeth, ensur, cover, section, evenli, 5, 32, teeth, spend, approxim, 375, second, tooth, 6, move, surfac, teeth, repeat, brush, techniqu, 7, brush, chew, surfac, teeth, short, backandforth, stroke, 8, proper, clean, ensur, brush, bristl, bend, slightli, reach, teeth, 9, forget, brush, tongu, gentli, remov, bacteria, freshen, breath, 10, rins, mouth, toothbrush, brush, relev, metric, total, brush, time, 2, ...]</td>\n",
       "    </tr>\n",
       "    <tr>\n",
       "      <th>1</th>\n",
       "      <td>Brushing your teeth removes placque, food, and germs. \\nFollow these steps for an effective brushing routine:\\n1. Wet your toothbrush and apply a pea-sized amount of fluoride toothpaste.\\n2. Start with the outer surfaces of your upper teeth. Hold your toothbrush at a 45-degree angle to your gums.\\n3. Brush using short strokes, maintaining a rate of about 2 strokes per second, which equals 120 strokes per minute.\\n4. Spend a total of 2 minutes brushing your teeth. For 32 teeth, this means dedicating approximately 3.75 seconds to each tooth.\\n5. Move to the inner surfaces of your teeth and use the same brushing technique.\\n6. Brush the chewing surfaces of your teeth with short, back-and-forth strokes.\\n7. Ensure the brush bristles bend slightly to clean between teeth effectively.\\n8. Don't forget to brush your tongue gently to remove bacteria and freshen your breath.\\n9. Rinse your mouth and toothbrush thoroughly after brushing.\\nAdditional metrics:\\n- Total brushing time: 2 minutes\\n- Number of strokes: Approximately 240\\n- Bristle deflection: Slight bending of bristles</td>\n",
       "      <td>brushing your teeth removes placque, food, and germs. \\nfollow these steps for an effective brushing routine:\\n1. wet your toothbrush and apply a pea-sized amount of fluoride toothpaste.\\n2. start with the outer surfaces of your upper teeth. hold your toothbrush at a 45-degree angle to your gums.\\n3. brush using short strokes, maintaining a rate of about 2 strokes per second, which equals 120 strokes per minute.\\n4. spend a total of 2 minutes brushing your teeth. for 32 teeth, this means dedicating approximately 3.75 seconds to each tooth.\\n5. move to the inner surfaces of your teeth and use the same brushing technique.\\n6. brush the chewing surfaces of your teeth with short, back-and-forth strokes.\\n7. ensure the brush bristles bend slightly to clean between teeth effectively.\\n8. don't forget to brush your tongue gently to remove bacteria and freshen your breath.\\n9. rinse your mouth and toothbrush thoroughly after brushing.\\nadditional metrics:\\n- total brushing time: 2 minutes\\n- number of strokes: approximately 240\\n- bristle deflection: slight bending of bristles</td>\n",
       "      <td>brushing your teeth removes placque food and germs \\nfollow these steps for an effective brushing routine\\n1 wet your toothbrush and apply a peasized amount of fluoride toothpaste\\n2 start with the outer surfaces of your upper teeth hold your toothbrush at a 45degree angle to your gums\\n3 brush using short strokes maintaining a rate of about 2 strokes per second which equals 120 strokes per minute\\n4 spend a total of 2 minutes brushing your teeth for 32 teeth this means dedicating approximately 375 seconds to each tooth\\n5 move to the inner surfaces of your teeth and use the same brushing technique\\n6 brush the chewing surfaces of your teeth with short backandforth strokes\\n7 ensure the brush bristles bend slightly to clean between teeth effectively\\n8 dont forget to brush your tongue gently to remove bacteria and freshen your breath\\n9 rinse your mouth and toothbrush thoroughly after brushing\\nadditional metrics\\n total brushing time 2 minutes\\n number of strokes approximately 240\\n bristle deflection slight bending of bristles</td>\n",
       "      <td>[brushing, your, teeth, removes, placque, food, and, germs, follow, these, steps, for, an, effective, brushing, routine, 1, wet, your, toothbrush, and, apply, a, peasized, amount, of, fluoride, toothpaste, 2, start, with, the, outer, surfaces, of, your, upper, teeth, hold, your, toothbrush, at, a, 45degree, angle, to, your, gums, 3, brush, using, short, strokes, maintaining, a, rate, of, about, 2, strokes, per, second, which, equals, 120, strokes, per, minute, 4, spend, a, total, of, 2, minutes, brushing, your, teeth, for, 32, teeth, this, means, dedicating, approximately, 375, seconds, to, each, tooth, 5, move, to, the, inner, surfaces, of, your, teeth, and, ...]</td>\n",
       "      <td>[brushing, teeth, removes, placque, food, germs, follow, steps, effective, brushing, routine, 1, wet, toothbrush, apply, peasized, amount, fluoride, toothpaste, 2, start, outer, surfaces, upper, teeth, hold, toothbrush, 45degree, angle, gums, 3, brush, short, strokes, maintaining, rate, 2, strokes, equals, 120, strokes, minute, 4, spend, total, 2, minutes, brushing, teeth, 32, teeth, means, dedicating, approximately, 375, seconds, tooth, 5, move, surfaces, teeth, brushing, technique, 6, brush, chewing, surfaces, teeth, short, backandforth, strokes, 7, ensure, brush, bristles, bend, slightly, clean, teeth, effectively, 8, forget, brush, tongue, gently, remove, bacteria, freshen, breath, 9, rinse, mouth, toothbrush, brushing, additional, metrics, total, brushing, time, 2, ...]</td>\n",
       "      <td>[brush, teeth, remov, placqu, food, germ, follow, step, effect, brush, routin, 1, wet, toothbrush, appli, peasiz, amount, fluorid, toothpast, 2, start, outer, surfac, upper, teeth, hold, toothbrush, 45degre, angl, gum, 3, brush, short, stroke, maintain, rate, 2, stroke, equal, 120, stroke, minut, 4, spend, total, 2, minut, brush, teeth, 32, teeth, mean, dedic, approxim, 375, second, tooth, 5, move, surfac, teeth, brush, techniqu, 6, brush, chew, surfac, teeth, short, backandforth, stroke, 7, ensur, brush, bristl, bend, slightli, clean, teeth, effect, 8, forget, brush, tongu, gentli, remov, bacteria, freshen, breath, 9, rins, mouth, toothbrush, brush, addit, metric, total, brush, time, 2, ...]</td>\n",
       "    </tr>\n",
       "  </tbody>\n",
       "</table>\n",
       "</div>"
      ],
      "text/plain": [
       "                                                                                                                                                                                                                                                                                                                                                                                                                                                                                                                                                                                                                                                                                                                                                                                                                                                                                                                                                                                                                                                                                                                           DOCUMENT  \\\n",
       "0  Brushing your teeth is an essential part of maintaining good oral hygiene. \\nHere are detailed instructions:\\n1. Wet your toothbrush and apply a pea-sized amount of fluoride toothpaste.\\n2. Start with the outer surfaces of your upper teeth. Hold your toothbrush at a 45-degree angle to your gums.\\n3. Brush with short strokes, about 2 strokes per second (120 strokes per minute).\\n4. Spend about 2 minutes brushing all your teeth, ensuring you cover each section evenly.\\n5. For 32 teeth, spend approximately 3.75 seconds per tooth.\\n6. Move to the inner surfaces of your teeth and repeat the brushing technique.\\n7. Brush the chewing surfaces of your teeth with short, back-and-forth strokes.\\n8. For proper cleaning, ensure the brush bristles bend slightly to reach between the teeth.\\n9. Don’t forget to brush your tongue gently to remove bacteria and freshen your breath.\\n10. Rinse your mouth and toothbrush thoroughly after brushing.\\nOther relevant metrics:\\n- Total brushing time: 2 minutes\\n- Number of strokes: Approximately 240\\n- Bristle deflection: Slight bending of bristles   \n",
       "1     Brushing your teeth removes placque, food, and germs. \\nFollow these steps for an effective brushing routine:\\n1. Wet your toothbrush and apply a pea-sized amount of fluoride toothpaste.\\n2. Start with the outer surfaces of your upper teeth. Hold your toothbrush at a 45-degree angle to your gums.\\n3. Brush using short strokes, maintaining a rate of about 2 strokes per second, which equals 120 strokes per minute.\\n4. Spend a total of 2 minutes brushing your teeth. For 32 teeth, this means dedicating approximately 3.75 seconds to each tooth.\\n5. Move to the inner surfaces of your teeth and use the same brushing technique.\\n6. Brush the chewing surfaces of your teeth with short, back-and-forth strokes.\\n7. Ensure the brush bristles bend slightly to clean between teeth effectively.\\n8. Don't forget to brush your tongue gently to remove bacteria and freshen your breath.\\n9. Rinse your mouth and toothbrush thoroughly after brushing.\\nAdditional metrics:\\n- Total brushing time: 2 minutes\\n- Number of strokes: Approximately 240\\n- Bristle deflection: Slight bending of bristles   \n",
       "\n",
       "                                                                                                                                                                                                                                                                                                                                                                                                                                                                                                                                                                                                                                                                                                                                                                                                                                                                                                                                                                                                                                                                                                                          LOWERCASE  \\\n",
       "0  brushing your teeth is an essential part of maintaining good oral hygiene. \\nhere are detailed instructions:\\n1. wet your toothbrush and apply a pea-sized amount of fluoride toothpaste.\\n2. start with the outer surfaces of your upper teeth. hold your toothbrush at a 45-degree angle to your gums.\\n3. brush with short strokes, about 2 strokes per second (120 strokes per minute).\\n4. spend about 2 minutes brushing all your teeth, ensuring you cover each section evenly.\\n5. for 32 teeth, spend approximately 3.75 seconds per tooth.\\n6. move to the inner surfaces of your teeth and repeat the brushing technique.\\n7. brush the chewing surfaces of your teeth with short, back-and-forth strokes.\\n8. for proper cleaning, ensure the brush bristles bend slightly to reach between the teeth.\\n9. don’t forget to brush your tongue gently to remove bacteria and freshen your breath.\\n10. rinse your mouth and toothbrush thoroughly after brushing.\\nother relevant metrics:\\n- total brushing time: 2 minutes\\n- number of strokes: approximately 240\\n- bristle deflection: slight bending of bristles   \n",
       "1     brushing your teeth removes placque, food, and germs. \\nfollow these steps for an effective brushing routine:\\n1. wet your toothbrush and apply a pea-sized amount of fluoride toothpaste.\\n2. start with the outer surfaces of your upper teeth. hold your toothbrush at a 45-degree angle to your gums.\\n3. brush using short strokes, maintaining a rate of about 2 strokes per second, which equals 120 strokes per minute.\\n4. spend a total of 2 minutes brushing your teeth. for 32 teeth, this means dedicating approximately 3.75 seconds to each tooth.\\n5. move to the inner surfaces of your teeth and use the same brushing technique.\\n6. brush the chewing surfaces of your teeth with short, back-and-forth strokes.\\n7. ensure the brush bristles bend slightly to clean between teeth effectively.\\n8. don't forget to brush your tongue gently to remove bacteria and freshen your breath.\\n9. rinse your mouth and toothbrush thoroughly after brushing.\\nadditional metrics:\\n- total brushing time: 2 minutes\\n- number of strokes: approximately 240\\n- bristle deflection: slight bending of bristles   \n",
       "\n",
       "                                                                                                                                                                                                                                                                                                                                                                                                                                                                                                                                                                                                                                                                                                                                                                                                                                                                                                                                                                                                                                                                                CLEANING  \\\n",
       "0  brushing your teeth is an essential part of maintaining good oral hygiene \\nhere are detailed instructions\\n1 wet your toothbrush and apply a peasized amount of fluoride toothpaste\\n2 start with the outer surfaces of your upper teeth hold your toothbrush at a 45degree angle to your gums\\n3 brush with short strokes about 2 strokes per second 120 strokes per minute\\n4 spend about 2 minutes brushing all your teeth ensuring you cover each section evenly\\n5 for 32 teeth spend approximately 375 seconds per tooth\\n6 move to the inner surfaces of your teeth and repeat the brushing technique\\n7 brush the chewing surfaces of your teeth with short backandforth strokes\\n8 for proper cleaning ensure the brush bristles bend slightly to reach between the teeth\\n9 dont forget to brush your tongue gently to remove bacteria and freshen your breath\\n10 rinse your mouth and toothbrush thoroughly after brushing\\nother relevant metrics\\n total brushing time 2 minutes\\n number of strokes approximately 240\\n bristle deflection slight bending of bristles   \n",
       "1   brushing your teeth removes placque food and germs \\nfollow these steps for an effective brushing routine\\n1 wet your toothbrush and apply a peasized amount of fluoride toothpaste\\n2 start with the outer surfaces of your upper teeth hold your toothbrush at a 45degree angle to your gums\\n3 brush using short strokes maintaining a rate of about 2 strokes per second which equals 120 strokes per minute\\n4 spend a total of 2 minutes brushing your teeth for 32 teeth this means dedicating approximately 375 seconds to each tooth\\n5 move to the inner surfaces of your teeth and use the same brushing technique\\n6 brush the chewing surfaces of your teeth with short backandforth strokes\\n7 ensure the brush bristles bend slightly to clean between teeth effectively\\n8 dont forget to brush your tongue gently to remove bacteria and freshen your breath\\n9 rinse your mouth and toothbrush thoroughly after brushing\\nadditional metrics\\n total brushing time 2 minutes\\n number of strokes approximately 240\\n bristle deflection slight bending of bristles   \n",
       "\n",
       "                                                                                                                                                                                                                                                                                                                                                                                                                                                                                                                                                                                                                                                                                            TOKENIZATION  \\\n",
       "0  [brushing, your, teeth, is, an, essential, part, of, maintaining, good, oral, hygiene, here, are, detailed, instructions, 1, wet, your, toothbrush, and, apply, a, peasized, amount, of, fluoride, toothpaste, 2, start, with, the, outer, surfaces, of, your, upper, teeth, hold, your, toothbrush, at, a, 45degree, angle, to, your, gums, 3, brush, with, short, strokes, about, 2, strokes, per, second, 120, strokes, per, minute, 4, spend, about, 2, minutes, brushing, all, your, teeth, ensuring, you, cover, each, section, evenly, 5, for, 32, teeth, spend, approximately, 375, seconds, per, tooth, 6, move, to, the, inner, surfaces, of, your, teeth, and, repeat, the, brushing, ...]   \n",
       "1       [brushing, your, teeth, removes, placque, food, and, germs, follow, these, steps, for, an, effective, brushing, routine, 1, wet, your, toothbrush, and, apply, a, peasized, amount, of, fluoride, toothpaste, 2, start, with, the, outer, surfaces, of, your, upper, teeth, hold, your, toothbrush, at, a, 45degree, angle, to, your, gums, 3, brush, using, short, strokes, maintaining, a, rate, of, about, 2, strokes, per, second, which, equals, 120, strokes, per, minute, 4, spend, a, total, of, 2, minutes, brushing, your, teeth, for, 32, teeth, this, means, dedicating, approximately, 375, seconds, to, each, tooth, 5, move, to, the, inner, surfaces, of, your, teeth, and, ...]   \n",
       "\n",
       "                                                                                                                                                                                                                                                                                                                                                                                                                                                                                                                                                                                                                                                                                                                                                                                                          STOP-WORDS  \\\n",
       "0      [brushing, teeth, essential, part, maintaining, oral, hygiene, detailed, instructions, 1, wet, toothbrush, apply, peasized, amount, fluoride, toothpaste, 2, start, outer, surfaces, upper, teeth, hold, toothbrush, 45degree, angle, gums, 3, brush, short, strokes, 2, strokes, 120, strokes, minute, 4, spend, 2, minutes, brushing, teeth, ensuring, cover, section, evenly, 5, 32, teeth, spend, approximately, 375, seconds, tooth, 6, move, surfaces, teeth, repeat, brushing, technique, 7, brush, chewing, surfaces, teeth, short, backandforth, strokes, 8, proper, cleaning, ensure, brush, bristles, bend, slightly, reach, teeth, 9, forget, brush, tongue, gently, remove, bacteria, freshen, breath, 10, rinse, mouth, toothbrush, brushing, relevant, metrics, total, brushing, time, 2, ...]   \n",
       "1  [brushing, teeth, removes, placque, food, germs, follow, steps, effective, brushing, routine, 1, wet, toothbrush, apply, peasized, amount, fluoride, toothpaste, 2, start, outer, surfaces, upper, teeth, hold, toothbrush, 45degree, angle, gums, 3, brush, short, strokes, maintaining, rate, 2, strokes, equals, 120, strokes, minute, 4, spend, total, 2, minutes, brushing, teeth, 32, teeth, means, dedicating, approximately, 375, seconds, tooth, 5, move, surfaces, teeth, brushing, technique, 6, brush, chewing, surfaces, teeth, short, backandforth, strokes, 7, ensure, brush, bristles, bend, slightly, clean, teeth, effectively, 8, forget, brush, tongue, gently, remove, bacteria, freshen, breath, 9, rinse, mouth, toothbrush, brushing, additional, metrics, total, brushing, time, 2, ...]   \n",
       "\n",
       "                                                                                                                                                                                                                                                                                                                                                                                                                                                                                                                                                                                                                                                                                                                               STEMMING  \n",
       "0  [brush, teeth, essenti, part, maintain, oral, hygien, detail, instruct, 1, wet, toothbrush, appli, peasiz, amount, fluorid, toothpast, 2, start, outer, surfac, upper, teeth, hold, toothbrush, 45degre, angl, gum, 3, brush, short, stroke, 2, stroke, 120, stroke, minut, 4, spend, 2, minut, brush, teeth, ensur, cover, section, evenli, 5, 32, teeth, spend, approxim, 375, second, tooth, 6, move, surfac, teeth, repeat, brush, techniqu, 7, brush, chew, surfac, teeth, short, backandforth, stroke, 8, proper, clean, ensur, brush, bristl, bend, slightli, reach, teeth, 9, forget, brush, tongu, gentli, remov, bacteria, freshen, breath, 10, rins, mouth, toothbrush, brush, relev, metric, total, brush, time, 2, ...]  \n",
       "1         [brush, teeth, remov, placqu, food, germ, follow, step, effect, brush, routin, 1, wet, toothbrush, appli, peasiz, amount, fluorid, toothpast, 2, start, outer, surfac, upper, teeth, hold, toothbrush, 45degre, angl, gum, 3, brush, short, stroke, maintain, rate, 2, stroke, equal, 120, stroke, minut, 4, spend, total, 2, minut, brush, teeth, 32, teeth, mean, dedic, approxim, 375, second, tooth, 5, move, surfac, teeth, brush, techniqu, 6, brush, chew, surfac, teeth, short, backandforth, stroke, 7, ensur, brush, bristl, bend, slightli, clean, teeth, effect, 8, forget, brush, tongu, gentli, remov, bacteria, freshen, breath, 9, rins, mouth, toothbrush, brush, addit, metric, total, brush, time, 2, ...]  "
      ]
     },
     "execution_count": 20,
     "metadata": {},
     "output_type": "execute_result"
    }
   ],
   "source": [
    "ME = '''Wet your toothbrush and put a pea-sized amount of toothpaste on the bristles of the toothbrush. Toothpaste costs $5 per container. Make sure to use less than 5 cents per brushing.\n",
    "\n",
    "Brush the upper left, upper right, and upper front teeth inner and outer surfaces for 20 seconds each. Make sure the brush is never more than half-way smooshed against teeth.\n",
    "\n",
    "Brush the lower left, lower right, and lower front teeth inner and outer surfaces for 20 seconds each. Make sure the brush is never more than half-way smooshed against teeth.\n",
    "\n",
    "Brush your tongue and the roof of your mouth for 10 seconds each.\n",
    "\n",
    "Rinse your mouth. Rinse the toothbrush with water three times.'''\n",
    "compare = pd.concat([compare, tf_idf.preprocess_text(ME_text)], \n",
    "                    ignore_index=True)\n",
    "compare"
   ]
  },
  {
   "cell_type": "code",
   "execution_count": 21,
   "id": "4b7f89e7-4272-472a-8f81-cbb5884207e7",
   "metadata": {},
   "outputs": [
    {
     "data": {
      "text/html": [
       "<div>\n",
       "<style scoped>\n",
       "    .dataframe tbody tr th:only-of-type {\n",
       "        vertical-align: middle;\n",
       "    }\n",
       "\n",
       "    .dataframe tbody tr th {\n",
       "        vertical-align: top;\n",
       "    }\n",
       "\n",
       "    .dataframe thead th {\n",
       "        text-align: right;\n",
       "    }\n",
       "</style>\n",
       "<table border=\"1\" class=\"dataframe\">\n",
       "  <thead>\n",
       "    <tr style=\"text-align: right;\">\n",
       "      <th></th>\n",
       "      <th>DOCUMENT</th>\n",
       "      <th>STEMMING</th>\n",
       "      <th>COSIM</th>\n",
       "    </tr>\n",
       "  </thead>\n",
       "  <tbody>\n",
       "    <tr>\n",
       "      <th>0</th>\n",
       "      <td>Brushing your teeth is an essential part of maintaining good oral hygiene. \\nHere are detailed instructions:\\n1. Wet your toothbrush and apply a pea-sized amount of fluoride toothpaste.\\n2. Start with the outer surfaces of your upper teeth. Hold your toothbrush at a 45-degree angle to your gums.\\n3. Brush with short strokes, about 2 strokes per second (120 strokes per minute).\\n4. Spend about 2 minutes brushing all your teeth, ensuring you cover each section evenly.\\n5. For 32 teeth, spend approximately 3.75 seconds per tooth.\\n6. Move to the inner surfaces of your teeth and repeat the brushing technique.\\n7. Brush the chewing surfaces of your teeth with short, back-and-forth strokes.\\n8. For proper cleaning, ensure the brush bristles bend slightly to reach between the teeth.\\n9. Don’t forget to brush your tongue gently to remove bacteria and freshen your breath.\\n10. Rinse your mouth and toothbrush thoroughly after brushing.\\nOther relevant metrics:\\n- Total brushing time: 2 minutes\\n- Number of strokes: Approximately 240\\n- Bristle deflection: Slight bending of bristles</td>\n",
       "      <td>[brush, teeth, essenti, part, maintain, oral, hygien, detail, instruct, 1, wet, toothbrush, appli, peasiz, amount, fluorid, toothpast, 2, start, outer, surfac, upper, teeth, hold, toothbrush, 45degre, angl, gum, 3, brush, short, stroke, 2, stroke, 120, stroke, minut, 4, spend, 2, minut, brush, teeth, ensur, cover, section, evenli, 5, 32, teeth, spend, approxim, 375, second, tooth, 6, move, surfac, teeth, repeat, brush, techniqu, 7, brush, chew, surfac, teeth, short, backandforth, stroke, 8, proper, clean, ensur, brush, bristl, bend, slightli, reach, teeth, 9, forget, brush, tongu, gentli, remov, bacteria, freshen, breath, 10, rins, mouth, toothbrush, brush, relev, metric, total, brush, time, 2, ...]</td>\n",
       "      <td>1.000000</td>\n",
       "    </tr>\n",
       "    <tr>\n",
       "      <th>1</th>\n",
       "      <td>Brushing your teeth removes placque, food, and germs. \\nFollow these steps for an effective brushing routine:\\n1. Wet your toothbrush and apply a pea-sized amount of fluoride toothpaste.\\n2. Start with the outer surfaces of your upper teeth. Hold your toothbrush at a 45-degree angle to your gums.\\n3. Brush using short strokes, maintaining a rate of about 2 strokes per second, which equals 120 strokes per minute.\\n4. Spend a total of 2 minutes brushing your teeth. For 32 teeth, this means dedicating approximately 3.75 seconds to each tooth.\\n5. Move to the inner surfaces of your teeth and use the same brushing technique.\\n6. Brush the chewing surfaces of your teeth with short, back-and-forth strokes.\\n7. Ensure the brush bristles bend slightly to clean between teeth effectively.\\n8. Don't forget to brush your tongue gently to remove bacteria and freshen your breath.\\n9. Rinse your mouth and toothbrush thoroughly after brushing.\\nAdditional metrics:\\n- Total brushing time: 2 minutes\\n- Number of strokes: Approximately 240\\n- Bristle deflection: Slight bending of bristles</td>\n",
       "      <td>[brush, teeth, remov, placqu, food, germ, follow, step, effect, brush, routin, 1, wet, toothbrush, appli, peasiz, amount, fluorid, toothpast, 2, start, outer, surfac, upper, teeth, hold, toothbrush, 45degre, angl, gum, 3, brush, short, stroke, maintain, rate, 2, stroke, equal, 120, stroke, minut, 4, spend, total, 2, minut, brush, teeth, 32, teeth, mean, dedic, approxim, 375, second, tooth, 5, move, surfac, teeth, brush, techniqu, 6, brush, chew, surfac, teeth, short, backandforth, stroke, 7, ensur, brush, bristl, bend, slightli, clean, teeth, effect, 8, forget, brush, tongu, gentli, remov, bacteria, freshen, breath, 9, rins, mouth, toothbrush, brush, addit, metric, total, brush, time, 2, ...]</td>\n",
       "      <td>0.893249</td>\n",
       "    </tr>\n",
       "  </tbody>\n",
       "</table>\n",
       "</div>"
      ],
      "text/plain": [
       "                                                                                                                                                                                                                                                                                                                                                                                                                                                                                                                                                                                                                                                                                                                                                                                                                                                                                                                                                                                                                                                                                                                           DOCUMENT  \\\n",
       "0  Brushing your teeth is an essential part of maintaining good oral hygiene. \\nHere are detailed instructions:\\n1. Wet your toothbrush and apply a pea-sized amount of fluoride toothpaste.\\n2. Start with the outer surfaces of your upper teeth. Hold your toothbrush at a 45-degree angle to your gums.\\n3. Brush with short strokes, about 2 strokes per second (120 strokes per minute).\\n4. Spend about 2 minutes brushing all your teeth, ensuring you cover each section evenly.\\n5. For 32 teeth, spend approximately 3.75 seconds per tooth.\\n6. Move to the inner surfaces of your teeth and repeat the brushing technique.\\n7. Brush the chewing surfaces of your teeth with short, back-and-forth strokes.\\n8. For proper cleaning, ensure the brush bristles bend slightly to reach between the teeth.\\n9. Don’t forget to brush your tongue gently to remove bacteria and freshen your breath.\\n10. Rinse your mouth and toothbrush thoroughly after brushing.\\nOther relevant metrics:\\n- Total brushing time: 2 minutes\\n- Number of strokes: Approximately 240\\n- Bristle deflection: Slight bending of bristles   \n",
       "1     Brushing your teeth removes placque, food, and germs. \\nFollow these steps for an effective brushing routine:\\n1. Wet your toothbrush and apply a pea-sized amount of fluoride toothpaste.\\n2. Start with the outer surfaces of your upper teeth. Hold your toothbrush at a 45-degree angle to your gums.\\n3. Brush using short strokes, maintaining a rate of about 2 strokes per second, which equals 120 strokes per minute.\\n4. Spend a total of 2 minutes brushing your teeth. For 32 teeth, this means dedicating approximately 3.75 seconds to each tooth.\\n5. Move to the inner surfaces of your teeth and use the same brushing technique.\\n6. Brush the chewing surfaces of your teeth with short, back-and-forth strokes.\\n7. Ensure the brush bristles bend slightly to clean between teeth effectively.\\n8. Don't forget to brush your tongue gently to remove bacteria and freshen your breath.\\n9. Rinse your mouth and toothbrush thoroughly after brushing.\\nAdditional metrics:\\n- Total brushing time: 2 minutes\\n- Number of strokes: Approximately 240\\n- Bristle deflection: Slight bending of bristles   \n",
       "\n",
       "                                                                                                                                                                                                                                                                                                                                                                                                                                                                                                                                                                                                                                                                                                                               STEMMING  \\\n",
       "0  [brush, teeth, essenti, part, maintain, oral, hygien, detail, instruct, 1, wet, toothbrush, appli, peasiz, amount, fluorid, toothpast, 2, start, outer, surfac, upper, teeth, hold, toothbrush, 45degre, angl, gum, 3, brush, short, stroke, 2, stroke, 120, stroke, minut, 4, spend, 2, minut, brush, teeth, ensur, cover, section, evenli, 5, 32, teeth, spend, approxim, 375, second, tooth, 6, move, surfac, teeth, repeat, brush, techniqu, 7, brush, chew, surfac, teeth, short, backandforth, stroke, 8, proper, clean, ensur, brush, bristl, bend, slightli, reach, teeth, 9, forget, brush, tongu, gentli, remov, bacteria, freshen, breath, 10, rins, mouth, toothbrush, brush, relev, metric, total, brush, time, 2, ...]   \n",
       "1         [brush, teeth, remov, placqu, food, germ, follow, step, effect, brush, routin, 1, wet, toothbrush, appli, peasiz, amount, fluorid, toothpast, 2, start, outer, surfac, upper, teeth, hold, toothbrush, 45degre, angl, gum, 3, brush, short, stroke, maintain, rate, 2, stroke, equal, 120, stroke, minut, 4, spend, total, 2, minut, brush, teeth, 32, teeth, mean, dedic, approxim, 375, second, tooth, 5, move, surfac, teeth, brush, techniqu, 6, brush, chew, surfac, teeth, short, backandforth, stroke, 7, ensur, brush, bristl, bend, slightli, clean, teeth, effect, 8, forget, brush, tongu, gentli, remov, bacteria, freshen, breath, 9, rins, mouth, toothbrush, brush, addit, metric, total, brush, time, 2, ...]   \n",
       "\n",
       "      COSIM  \n",
       "0  1.000000  \n",
       "1  0.893249  "
      ]
     },
     "execution_count": 21,
     "metadata": {},
     "output_type": "execute_result"
    }
   ],
   "source": [
    "tf_idf.cosineSimilarity(compare)"
   ]
  },
  {
   "cell_type": "markdown",
   "id": "2b7f8ca0",
   "metadata": {},
   "source": [
    "## Document analysis\n",
    "\n",
    "- Make a list of all the improvements and changes you made to document\n",
    "- use the `tf_idf.cosineSimilarity` function to compare the AI version to your own\n",
    "\n",
    "Write a report on your intellectual property  in the 'revised document'. \n",
    "- How much can you claim as yours?\n",
    "- How many ideas came from AI?\n",
    "- How many ideas came from you?\n",
    "- Is this a _new_ document?\n",
    "- If this work was made by you and another person-not AI-would you need to credit this person as a coauthor?\n",
    "- What else can you discuss about this comparison and this process?\n",
    "\n",
    "Cosine Similarity score was 43.1% so I think the document is mine with the included edits. The text is measureably different from the original ChatGPT output. I added 5 ideas to the document.In every toothbrushing step, I added my own expertise and background to make the instructions more clear and precise."
   ]
  },
  {
   "cell_type": "code",
   "execution_count": null,
   "id": "1d6d74a1-a120-42a1-b2fb-73c69011c3de",
   "metadata": {},
   "outputs": [],
   "source": []
  }
 ],
 "metadata": {
  "jupytext": {
   "formats": "md:myst,ipynb"
  },
  "kernelspec": {
   "display_name": "Python 3 (ipykernel)",
   "language": "python",
   "name": "python3"
  },
  "language_info": {
   "codemirror_mode": {
    "name": "ipython",
    "version": 3
   },
   "file_extension": ".py",
   "mimetype": "text/x-python",
   "name": "python",
   "nbconvert_exporter": "python",
   "pygments_lexer": "ipython3",
   "version": "3.9.6"
  }
 },
 "nbformat": 4,
 "nbformat_minor": 5
}
